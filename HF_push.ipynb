{
 "cells": [
  {
   "cell_type": "code",
   "execution_count": 1,
   "id": "6bbb4fc7-54e9-463a-a0b6-b3902ef48753",
   "metadata": {},
   "outputs": [
    {
     "data": {
      "application/vnd.jupyter.widget-view+json": {
       "model_id": "8e717a90e47d47bebfb2cd8968092df0",
       "version_major": 2,
       "version_minor": 0
      },
      "text/plain": [
       "model.safetensors:   0%|          | 0.00/498M [00:00<?, ?B/s]"
      ]
     },
     "metadata": {},
     "output_type": "display_data"
    },
    {
     "name": "stdout",
     "output_type": "stream",
     "text": [
      "Model successfully uploaded! 🎉\n",
      "Check it out here: https://huggingface.co/sachinmalego/DPO_Trainer\n"
     ]
    }
   ],
   "source": [
    "from huggingface_hub import create_repo, upload_folder\n",
    "from transformers import AutoModelForCausalLM, AutoTokenizer\n",
    "\n",
    "from huggingface_hub import create_repo, upload_folder\n",
    "\n",
    "# Define the repository name and the path to your model\n",
    "repo_name = \"DPO_Trainer\"\n",
    "model_path = \"/home/jupyter-st125171/A5-DPO/dpo_model\"  # Path to your saved model\n",
    "\n",
    "# Create a new repository on Hugging Face if it doesn't exist\n",
    "create_repo(repo_name, exist_ok=True)\n",
    "\n",
    "# Upload the model folder to Hugging Face Hub\n",
    "upload_folder(\n",
    "    folder_path=model_path,  # Path to the directory containing your model files\n",
    "    repo_id=f\"sachinmalego/{repo_name}\",  # Your Hugging Face username and repo name\n",
    "    commit_message=\"Uploaded trained DPO model\"\n",
    ")\n",
    "\n",
    "print(f\"Model successfully uploaded! 🎉\")\n",
    "print(f\"Check it out here: https://huggingface.co/sachinmalego/{repo_name}\")"
   ]
  },
  {
   "cell_type": "code",
   "execution_count": null,
   "id": "1d0a8702-9244-43ac-a8fd-0447d7505eb4",
   "metadata": {},
   "outputs": [],
   "source": []
  }
 ],
 "metadata": {
  "kernelspec": {
   "display_name": "base",
   "language": "python",
   "name": "python3"
  },
  "language_info": {
   "codemirror_mode": {
    "name": "ipython",
    "version": 3
   },
   "file_extension": ".py",
   "mimetype": "text/x-python",
   "name": "python",
   "nbconvert_exporter": "python",
   "pygments_lexer": "ipython3",
   "version": "3.12.7"
  }
 },
 "nbformat": 4,
 "nbformat_minor": 5
}
